{
 "cells": [
  {
   "cell_type": "code",
   "execution_count": 15,
   "metadata": {},
   "outputs": [],
   "source": [
    "from rdkit import Chem\n",
    "import numpy as np\n",
    "\n",
    "SMILES_CHARS = [' ',\n",
    "                  '#', '%', '(', ')', '+', '-', '.', '/',\n",
    "                  '0', '1', '2', '3', '4', '5', '6', '7', '8', '9',\n",
    "                  '=', '@',\n",
    "                  'A', 'B', 'C', 'F', 'H', 'I', 'K', 'L', 'M', 'N', 'O', 'P',\n",
    "                  'R', 'S', 'T', 'V', 'X', 'Z',\n",
    "                  '[', '\\\\', ']',\n",
    "                  'a', 'b', 'c', 'e', 'g', 'i', 'l', 'n', 'o', 'p', 'r', 's',\n",
    "                  't', 'u']\n",
    "smi2index = dict( (c,i) for i,c in enumerate( SMILES_CHARS ) )\n",
    "index2smi = dict( (i,c) for i,c in enumerate( SMILES_CHARS ) )\n",
    "def smiles_encoder( smiles, maxlen=120 ):\n",
    "    smiles = Chem.MolToSmiles(Chem.MolFromSmiles( smiles ))\n",
    "    X = np.zeros( ( maxlen, len( SMILES_CHARS ) ) )\n",
    "    for i, c in enumerate( smiles ):\n",
    "        X[i, smi2index[c] ] = 1\n",
    "    return X\n",
    " \n",
    "def smiles_decoder( X ):\n",
    "    smi = ''\n",
    "    X = X.argmax( axis=-1 )\n",
    "    for i in X:\n",
    "        smi += index2smi[ i ]\n",
    "    return smi\n"
   ]
  },
  {
   "cell_type": "code",
   "execution_count": 20,
   "metadata": {},
   "outputs": [
    {
     "name": "stdout",
     "output_type": "stream",
     "text": [
      "(120, 56)\n",
      "CC1CCN(C(=O)CC#N)CC1N(C)c1ncnc2[nH]ccc12                                                                                \n"
     ]
    }
   ],
   "source": [
    "mat=smiles_encoder('CC1CCN(CC1N(C)C2=NC=NC3=C2C=CN3)C(=O)CC#N')\n",
    "print( mat.shape )\n",
    "\n",
    "dec=smiles_decoder(mat)\n",
    "print(dec)"
   ]
  },
  {
   "cell_type": "code",
   "execution_count": 19,
   "metadata": {},
   "outputs": [
    {
     "data": {
      "text/plain": [
       "array([], shape=(0, 2), dtype=int64)"
      ]
     },
     "execution_count": 19,
     "metadata": {},
     "output_type": "execute_result"
    }
   ],
   "source": [
    "mat2 = smiles_encoder('CC1CCN(C(=O)CC#N)CC1N(C)c1ncnc2[nH]ccc12')\n",
    "np.argwhere(mat!=mat2)"
   ]
  },
  {
   "cell_type": "code",
   "execution_count": 21,
   "metadata": {},
   "outputs": [
    {
     "data": {
      "text/plain": [
       "{0: ' ',\n",
       " 1: '#',\n",
       " 2: '%',\n",
       " 3: '(',\n",
       " 4: ')',\n",
       " 5: '+',\n",
       " 6: '-',\n",
       " 7: '.',\n",
       " 8: '/',\n",
       " 9: '0',\n",
       " 10: '1',\n",
       " 11: '2',\n",
       " 12: '3',\n",
       " 13: '4',\n",
       " 14: '5',\n",
       " 15: '6',\n",
       " 16: '7',\n",
       " 17: '8',\n",
       " 18: '9',\n",
       " 19: '=',\n",
       " 20: '@',\n",
       " 21: 'A',\n",
       " 22: 'B',\n",
       " 23: 'C',\n",
       " 24: 'F',\n",
       " 25: 'H',\n",
       " 26: 'I',\n",
       " 27: 'K',\n",
       " 28: 'L',\n",
       " 29: 'M',\n",
       " 30: 'N',\n",
       " 31: 'O',\n",
       " 32: 'P',\n",
       " 33: 'R',\n",
       " 34: 'S',\n",
       " 35: 'T',\n",
       " 36: 'V',\n",
       " 37: 'X',\n",
       " 38: 'Z',\n",
       " 39: '[',\n",
       " 40: '\\\\',\n",
       " 41: ']',\n",
       " 42: 'a',\n",
       " 43: 'b',\n",
       " 44: 'c',\n",
       " 45: 'e',\n",
       " 46: 'g',\n",
       " 47: 'i',\n",
       " 48: 'l',\n",
       " 49: 'n',\n",
       " 50: 'o',\n",
       " 51: 'p',\n",
       " 52: 'r',\n",
       " 53: 's',\n",
       " 54: 't',\n",
       " 55: 'u'}"
      ]
     },
     "execution_count": 21,
     "metadata": {},
     "output_type": "execute_result"
    }
   ],
   "source": [
    "index2smi"
   ]
  },
  {
   "cell_type": "code",
   "execution_count": null,
   "metadata": {},
   "outputs": [],
   "source": []
  }
 ],
 "metadata": {
  "kernelspec": {
   "display_name": "Python 2",
   "language": "python",
   "name": "python2"
  },
  "language_info": {
   "codemirror_mode": {
    "name": "ipython",
    "version": 2
   },
   "file_extension": ".py",
   "mimetype": "text/x-python",
   "name": "python",
   "nbconvert_exporter": "python",
   "pygments_lexer": "ipython2",
   "version": "2.7.12"
  }
 },
 "nbformat": 4,
 "nbformat_minor": 2
}
